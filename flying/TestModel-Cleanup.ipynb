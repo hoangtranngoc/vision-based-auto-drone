{
 "cells": [
  {
   "cell_type": "code",
   "execution_count": 1,
   "metadata": {},
   "outputs": [
    {
     "name": "stderr",
     "output_type": "stream",
     "text": [
      "Using TensorFlow backend.\n"
     ]
    }
   ],
   "source": [
    "# import required classes\n",
    "import numpy as np\n",
    "import os\n",
    "import threading\n",
    "    \n",
    "import tensorflow as tf\n",
    "from keras.backend.tensorflow_backend import set_session\n",
    "\n",
    "# configure memory allocate for tensorflow backend\n",
    "config = tf.ConfigProto()\n",
    "#dynamically grow the memory used on the GPU\n",
    "config.gpu_options.allow_growth = True  \n",
    "set_session(tf.Session(config=config))\n"
   ]
  },
  {
   "cell_type": "markdown",
   "metadata": {},
   "source": [
    "# Start autoDrone"
   ]
  },
  {
   "cell_type": "code",
   "execution_count": 2,
   "metadata": {},
   "outputs": [
    {
     "name": "stdout",
     "output_type": "stream",
     "text": [
      "['', 'E:\\\\git\\\\models\\\\research', 'E:\\\\git\\\\models\\\\research\\\\slim', 'C:\\\\ProgramData\\\\Anaconda3\\\\python36.zip', 'C:\\\\ProgramData\\\\Anaconda3\\\\DLLs', 'C:\\\\ProgramData\\\\Anaconda3\\\\lib', 'C:\\\\ProgramData\\\\Anaconda3', 'C:\\\\Users\\\\hoang\\\\AppData\\\\Roaming\\\\Python\\\\Python36\\\\site-packages', 'C:\\\\ProgramData\\\\Anaconda3\\\\lib\\\\site-packages', 'C:\\\\ProgramData\\\\Anaconda3\\\\lib\\\\site-packages\\\\win32', 'C:\\\\ProgramData\\\\Anaconda3\\\\lib\\\\site-packages\\\\win32\\\\lib', 'C:\\\\ProgramData\\\\Anaconda3\\\\lib\\\\site-packages\\\\Pythonwin', 'C:\\\\ProgramData\\\\Anaconda3\\\\lib\\\\site-packages\\\\IPython\\\\extensions', 'C:\\\\Users\\\\hoang\\\\.ipython', 'E:\\\\git\\\\AirSim\\\\PythonClient']\n",
      "['', 'E:\\\\git\\\\models\\\\research', 'E:\\\\git\\\\models\\\\research\\\\slim', 'C:\\\\ProgramData\\\\Anaconda3\\\\python36.zip', 'C:\\\\ProgramData\\\\Anaconda3\\\\DLLs', 'C:\\\\ProgramData\\\\Anaconda3\\\\lib', 'C:\\\\ProgramData\\\\Anaconda3', 'C:\\\\Users\\\\hoang\\\\AppData\\\\Roaming\\\\Python\\\\Python36\\\\site-packages', 'C:\\\\ProgramData\\\\Anaconda3\\\\lib\\\\site-packages', 'C:\\\\ProgramData\\\\Anaconda3\\\\lib\\\\site-packages\\\\win32', 'C:\\\\ProgramData\\\\Anaconda3\\\\lib\\\\site-packages\\\\win32\\\\lib', 'C:\\\\ProgramData\\\\Anaconda3\\\\lib\\\\site-packages\\\\Pythonwin', 'C:\\\\ProgramData\\\\Anaconda3\\\\lib\\\\site-packages\\\\IPython\\\\extensions', 'C:\\\\Users\\\\hoang\\\\.ipython', 'E:\\\\git\\\\AirSim\\\\PythonClient', 'E:\\\\git\\\\keras-resnet']\n",
      "drone is starting\n",
      "Connected!\n",
      "Client Ver:1 (Min Req: 1), Server Ver:1 (Min Req: 1)\n",
      "\n",
      "drone is taking off\n"
     ]
    }
   ],
   "source": [
    "from drone import Drone\n",
    "import sys\n",
    "if \"E:\\\\git\\\\AirSim\\\\PythonClient\" not in sys.path:\n",
    "    sys.path.append(\"E:\\\\git\\\\AirSim\\\\PythonClient\")\n",
    "    print(sys.path)\n",
    "import airsim\n",
    "\n",
    "client = airsim.MultirotorClient()\n",
    "\n",
    "auto_drone = Drone (client)\n",
    "\n",
    "auto_drone.connect()\n",
    "auto_drone.takeoff()\n",
    "\n",
    "# default is 45 degree down\n",
    "auto_drone.change_camera_pitch(0)\n",
    "\n",
    "from environment import Environment\n",
    "env = Environment (client)"
   ]
  },
  {
   "cell_type": "markdown",
   "metadata": {},
   "source": [
    "### Load Model"
   ]
  },
  {
   "cell_type": "code",
   "execution_count": 3,
   "metadata": {},
   "outputs": [
    {
     "name": "stdout",
     "output_type": "stream",
     "text": [
      "loading navigation model into the drone\n"
     ]
    }
   ],
   "source": [
    "# model_id: 0 - Resnet18, 1 - MobileNetV2, 2 - DenseNet121, 3 - NasNetMobile\n",
    "model = auto_drone.load_navigation_model(1)"
   ]
  },
  {
   "cell_type": "markdown",
   "metadata": {},
   "source": [
    "### Sanity test for the model  "
   ]
  },
  {
   "cell_type": "code",
   "execution_count": 4,
   "metadata": {},
   "outputs": [
    {
     "name": "stdout",
     "output_type": "stream",
     "text": [
      "[array([[1.0000000e+00, 4.4525567e-08, 1.9623884e-18]], dtype=float32), array([[3.7051745e-07, 9.9999964e-01, 1.6780914e-09]], dtype=float32), array([[2.928667e-05, 9.999707e-01, 1.784223e-14]], dtype=float32), array([[4.6562172e-06, 9.9870706e-01, 1.2883403e-03]], dtype=float32)]\n",
      "[4.6562172e-06 9.9870706e-01 1.2883403e-03]\n",
      "[2.928667e-05 9.999707e-01 1.784223e-14]\n",
      "[1.0000000e+00 4.4525567e-08 1.9623884e-18]\n",
      "[3.7051745e-07 9.9999964e-01 1.6780914e-09]\n"
     ]
    }
   ],
   "source": [
    "from skimage.io import imread, imsave\n",
    "import log_handler\n",
    "\n",
    "f = 'E:\\\\UAV_drone\\\\data\\\\2019-01-04-6groups_120fov_height_normal\\\\val\\\\medium\\\\img_0_0_1546559335497177700.png'\n",
    "# f = 'img_0_0_1546722126943805600.png'\n",
    "img = imread(f) \n",
    "img_rgb = img[:,:,:3]\n",
    "img_norm = img_rgb / 255.0\n",
    "img_final = np.reshape(img_norm,[1,512,512,3])\n",
    "probs = model.predict(img_final)\n",
    "print (probs)\n",
    "offset_prob = probs[0][0]\n",
    "view_prob = probs[1][0]\n",
    "height_prob = probs[2][0]\n",
    "pitch_prob = probs[3][0]\n",
    "print(pitch_prob)\n",
    "print(height_prob)\n",
    "print(offset_prob)\n",
    "print(view_prob)\n",
    "img_path = os.path.join('.' , 'prob_'+'.png')\n",
    "log_handler.write_probs_on_image(pitch_prob, height_prob, offset_prob, view_prob, 0, img_rgb, img_path)"
   ]
  },
  {
   "cell_type": "code",
   "execution_count": 5,
   "metadata": {},
   "outputs": [],
   "source": [
    "# import common_functions as control\n",
    "# from common_types import *\n",
    "# import airsim\n",
    "\n",
    "\n",
    "import pprint\n",
    "import time\n",
    "import math\n",
    "\n",
    "def toDegree(rad):\n",
    "    return rad*180.0/math.pi\n",
    "\n",
    "def toRad(angle):\n",
    "    return angle*math.pi/180.0\n"
   ]
  },
  {
   "cell_type": "code",
   "execution_count": null,
   "metadata": {},
   "outputs": [],
   "source": []
  },
  {
   "cell_type": "markdown",
   "metadata": {},
   "source": [
    "#### initialize some variables "
   ]
  },
  {
   "cell_type": "code",
   "execution_count": 6,
   "metadata": {},
   "outputs": [],
   "source": [
    "FLYING_LOG_DIR = \"E:\\\\UAV_drone\\\\Logs\\\\flying_recording_play_asdd\"\n",
    "if not os.path.exists(FLYING_LOG_DIR):\n",
    "    os.makedirs(FLYING_LOG_DIR)\n",
    "\n",
    "name = os.path.join(FLYING_LOG_DIR, \"logs.txt\") \n",
    "f = open(name, \"a+\")\n",
    "\n",
    "randomWeatherList =   [[1.0, 1.0, 0.25, 0.0, 0.25],\n",
    "                       [0.0, 0.0, 0.75, 0.0, 0.0],\n",
    "                       [0.0, 0.0, 0.25, 0.75, 0.25],\n",
    "                       [0.0, 0.0, 0.0, 0.0, 0.75],\n",
    "                       [0.5, 0.5, 0.5, 0.5, 0.5]]\n",
    "\n",
    "recording = True\n",
    "change_pitch_count = 0\n",
    "total_z_angle_prob = 0\n",
    "user_input = []\n",
    "adjust_camera_enable = True\n",
    "changing_weather_enabled = False\n",
    "\n",
    "#spawn a new thread to wait for input\n",
    "def get_user_input(user_input): \n",
    "    input(\"Press enter to stop flying: \")\n",
    "    user_input.append(None)\n",
    "    \n"
   ]
  },
  {
   "cell_type": "markdown",
   "metadata": {},
   "source": [
    "### Main loop to fly drone autonomously"
   ]
  },
  {
   "cell_type": "code",
   "execution_count": 7,
   "metadata": {},
   "outputs": [
    {
     "name": "stdout",
     "output_type": "stream",
     "text": [
      "Press enter to stop flying:    \n",
      "stopped at  76\n",
      "hovering\n"
     ]
    }
   ],
   "source": [
    "import log_handler\n",
    "\n",
    "mythread = threading.Thread(target=get_user_input, args=(user_input,)) \n",
    "mythread.daemon = True \n",
    "mythread.start()\n",
    "\n",
    "i = 0 \n",
    "while True: \n",
    "    if (changing_weather_enabled and i%50==0):\n",
    "        (r, s, fo, l, d) = randomWeatherList[int(i/50)%4]\n",
    "        env.set_weather(r, s, fo, l, d)\n",
    "\n",
    "    # get current state of the drone\n",
    "    _, _, cur_yaw_rad = auto_drone.getPitchRollYawInRad()\n",
    "    if (recording):\n",
    "        cur_yaw_degree = toDegree(cur_yaw_rad)\n",
    "        cur_z = auto_drone.getZ()\n",
    "        f.write('{}, cur_yaw {:.3f}, cur_z {:.3f}\\n'.format(i, cur_yaw_degree, cur_z))\n",
    "\n",
    "    # observe from the front camera (id=0)\n",
    "    img3d_rbg = auto_drone.observe(0)\n",
    "    pitch_prob, height_prob, offset_prob, view_prob = auto_drone.estimate_position_and_orientation(img3d_rbg)\n",
    "    \n",
    "    if (recording): \n",
    "        img_path = os.path.join(FLYING_LOG_DIR , 'prob_'+str(i)+'.png')\n",
    "        log_handler.write_probs_on_image(pitch_prob, height_prob, offset_prob, view_prob, -auto_drone.camera_pitch, img3d_rbg, img_path)\n",
    "\n",
    "    \n",
    "    z_angle_prob = pitch_prob[0] - pitch_prob[2] # down - up \n",
    "\n",
    "    # check and adjust the camera\n",
    "    if adjust_camera_enable == True:\n",
    "        # only change the camera when it is greater then 0\n",
    "        if (abs(z_angle_prob)>0.5):        \n",
    "            change_pitch_count += 1\n",
    "            total_z_angle_prob += z_angle_prob\n",
    "            if (recording):\n",
    "                f.write('{}, change_pitch_count {},  total_z_angle_prob {}, vertical_angle is {:.3f}\\n'.format(i,change_pitch_count, total_z_angle_prob, auto_drone.camera_pitch))\n",
    "\n",
    "            if (change_pitch_count >= 3):\n",
    "                degree_to_change = -(1.0*total_z_angle_prob/change_pitch_count)*10\n",
    "                auto_drone.change_camera_pitch(degree_to_change)              \n",
    "                # reset if 3 consecutive times already\n",
    "                change_pitch_count = 0\n",
    "                total_z_angle_prob = 0\n",
    "        else:\n",
    "            change_pitch_count = 0\n",
    "            total_z_angle_prob = 0\n",
    "\n",
    "            \n",
    "    # calculate height to change\n",
    "    z_offset = 0.4*(height_prob[0] - height_prob[2]) # low - high\n",
    "    # double move higher or lower\n",
    "    if ((height_prob[0] > 0.95 or height_prob[2] >0.95) and (adjust_camera_enable == False or abs(auto_drone.camera_pitch) >= 25.0)):        \n",
    "        z_offset *= 1.5\n",
    "\n",
    "    # calculate yaw\n",
    "    latoff_angle = 10 * (offset_prob[0] - offset_prob[2]) # left - right\n",
    "    view_angle = 10 * (view_prob[0] - view_prob[2])\n",
    "    yaw_degree_to_change =  view_angle + latoff_angle \n",
    "    \n",
    "    headless = False \n",
    "    if (view_prob[1] >= 0.99):\n",
    "        headless = True       \n",
    "\n",
    "    if (recording):\n",
    "        f.write('{}, added_yaw {:.3f}, added_z {:.3f}, z_angle_prob {:.3f}\\n'.format(i, yaw_degree_to_change, z_offset, z_angle_prob))\n",
    "        f.write('{}, view_angle {:.3f}, latoff_angle {:.3f}\\n'.format(i, view_angle, latoff_angle))\n",
    "\n",
    "\n",
    "    if (headless == False and (yaw_degree_to_change > 10.5 or yaw_degree_to_change < -10.5)):\n",
    "        if (recording):\n",
    "            f.write('****turning with a BIG ANGLE\\n')\n",
    "        #double rotate in this case\n",
    "        auto_drone.rotate(yaw_degree_to_change)\n",
    "\n",
    "    if adjust_camera_enable == True:\n",
    "        velocity = 0.25*pitch_prob[1] + 0.25*offset_prob[1] + 0.25*view_prob[1] + 0.25*height_prob[1]\n",
    "    else:\n",
    "        velocity = 0.333*offset_prob[1] + 0.333*view_prob[1] + 0.333*height_prob[1]\n",
    "        \n",
    "    yaw_rad_to_change = toRad(yaw_degree_to_change)\n",
    "\n",
    "    auto_drone.moveByYawZ(yaw_rad_to_change, -z_offset, velocity, headless, file=f, recording=True)\n",
    "\n",
    "    i+=1\n",
    "    if user_input:\n",
    "        break \n",
    "        \n",
    "print (\"stopped at \", i)\n",
    "auto_drone.hover()\n",
    "f.close()"
   ]
  },
  {
   "cell_type": "code",
   "execution_count": 8,
   "metadata": {},
   "outputs": [],
   "source": []
  },
  {
   "cell_type": "markdown",
   "metadata": {},
   "source": [
    "### Intervention code"
   ]
  },
  {
   "cell_type": "code",
   "execution_count": 9,
   "metadata": {},
   "outputs": [
    {
     "data": {
      "text/plain": [
       "50"
      ]
     },
     "execution_count": 9,
     "metadata": {},
     "output_type": "execute_result"
    }
   ],
   "source": [
    "f = open(name, \"a+\")\n",
    "f.write('intervention, moving drone back to proper position')"
   ]
  },
  {
   "cell_type": "code",
   "execution_count": 8,
   "metadata": {},
   "outputs": [],
   "source": [
    "# shilf right\n",
    "auto_drone.shilf_horizontally('right')"
   ]
  },
  {
   "cell_type": "code",
   "execution_count": 9,
   "metadata": {},
   "outputs": [
    {
     "name": "stdout",
     "output_type": "stream",
     "text": [
      "hovering\n"
     ]
    }
   ],
   "source": [
    "# stop\n",
    "auto_drone.hover()"
   ]
  },
  {
   "cell_type": "code",
   "execution_count": 14,
   "metadata": {},
   "outputs": [],
   "source": [
    "# rotate 90 degree to the right\n",
    "auto_drone.rotate(90)"
   ]
  },
  {
   "cell_type": "code",
   "execution_count": 11,
   "metadata": {},
   "outputs": [],
   "source": [
    "# move higher 1 m\n",
    "auto_drone.move_vertically(1) "
   ]
  },
  {
   "cell_type": "code",
   "execution_count": 18,
   "metadata": {},
   "outputs": [],
   "source": [
    "# camera moves up 45 degree\n",
    "auto_drone.change_camera_pitch(-45)"
   ]
  },
  {
   "cell_type": "code",
   "execution_count": null,
   "metadata": {},
   "outputs": [],
   "source": [
    "f.write('done intervention'.format(i, cur_yaw_degree, cur_z))\n",
    "f.close()"
   ]
  },
  {
   "cell_type": "markdown",
   "metadata": {},
   "source": [
    "### End intervention"
   ]
  },
  {
   "cell_type": "code",
   "execution_count": null,
   "metadata": {},
   "outputs": [],
   "source": []
  }
 ],
 "metadata": {
  "kernelspec": {
   "display_name": "Python 3",
   "language": "python",
   "name": "python3"
  },
  "language_info": {
   "codemirror_mode": {
    "name": "ipython",
    "version": 3
   },
   "file_extension": ".py",
   "mimetype": "text/x-python",
   "name": "python",
   "nbconvert_exporter": "python",
   "pygments_lexer": "ipython3",
   "version": "3.6.5"
  }
 },
 "nbformat": 4,
 "nbformat_minor": 2
}
