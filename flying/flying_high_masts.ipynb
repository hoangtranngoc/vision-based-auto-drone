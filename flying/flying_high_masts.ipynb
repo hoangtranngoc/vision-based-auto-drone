{
 "cells": [
  {
   "cell_type": "code",
   "execution_count": 1,
   "metadata": {},
   "outputs": [
    {
     "name": "stdout",
     "output_type": "stream",
     "text": [
      "['', 'C:\\\\ProgramData\\\\Anaconda3\\\\python36.zip', 'C:\\\\ProgramData\\\\Anaconda3\\\\DLLs', 'C:\\\\ProgramData\\\\Anaconda3\\\\lib', 'C:\\\\ProgramData\\\\Anaconda3', 'C:\\\\Users\\\\hoang\\\\AppData\\\\Roaming\\\\Python\\\\Python36\\\\site-packages', 'C:\\\\ProgramData\\\\Anaconda3\\\\lib\\\\site-packages', 'C:\\\\ProgramData\\\\Anaconda3\\\\lib\\\\site-packages\\\\win32', 'C:\\\\ProgramData\\\\Anaconda3\\\\lib\\\\site-packages\\\\win32\\\\lib', 'C:\\\\ProgramData\\\\Anaconda3\\\\lib\\\\site-packages\\\\Pythonwin', 'C:\\\\ProgramData\\\\Anaconda3\\\\lib\\\\site-packages\\\\IPython\\\\extensions', 'C:\\\\Users\\\\hoang\\\\.ipython', 'E:\\\\git\\\\AirSim\\\\PythonClient']\n",
      "-- ['', 'C:\\\\ProgramData\\\\Anaconda3\\\\python36.zip', 'C:\\\\ProgramData\\\\Anaconda3\\\\DLLs', 'C:\\\\ProgramData\\\\Anaconda3\\\\lib', 'C:\\\\ProgramData\\\\Anaconda3', 'C:\\\\Users\\\\hoang\\\\AppData\\\\Roaming\\\\Python\\\\Python36\\\\site-packages', 'C:\\\\ProgramData\\\\Anaconda3\\\\lib\\\\site-packages', 'C:\\\\ProgramData\\\\Anaconda3\\\\lib\\\\site-packages\\\\win32', 'C:\\\\ProgramData\\\\Anaconda3\\\\lib\\\\site-packages\\\\win32\\\\lib', 'C:\\\\ProgramData\\\\Anaconda3\\\\lib\\\\site-packages\\\\Pythonwin', 'C:\\\\ProgramData\\\\Anaconda3\\\\lib\\\\site-packages\\\\IPython\\\\extensions', 'C:\\\\Users\\\\hoang\\\\.ipython', 'E:\\\\git\\\\AirSim\\\\PythonClient']\n"
     ]
    }
   ],
   "source": [
    "import common_functions as control\n",
    "from common_types import *\n",
    "import airsim\n",
    "import time\n",
    "\n",
    "mastDir = 'C:\\\\Users\\\\hoang\\\\WorkingSpace\\\\Unreal Projects\\\\DroneSimulator_Normal2\\\\Map_objects_info\\\\Masts'\n",
    "playerStartDir = 'C:\\\\Users\\\\hoang\\\\WorkingSpace\\\\Unreal Projects\\\\DroneSimulator_Normal2\\\\Map_objects_info\\\\PlayerStart'"
   ]
  },
  {
   "cell_type": "markdown",
   "metadata": {},
   "source": [
    "# Reading masts & player start location"
   ]
  },
  {
   "cell_type": "code",
   "execution_count": 2,
   "metadata": {},
   "outputs": [
    {
     "name": "stdout",
     "output_type": "stream",
     "text": [
      "XYZ(-57747.387 -3248.769 22690.0) Yaw(0.0)\n",
      "H_mast_ins_brown_4_white_0_0\n",
      "H_mast_ins_brown_4_white_0_1\n",
      "H_mast_ins_brown_4_white_0_2\n",
      "H_mast_ins_brown_4_white_0_3\n",
      "H_mast_ins_brown_4_white_0_4\n",
      "H_mast_ins_brown_4_white_0_5\n",
      "H_mast_ins_brown_4_white_0_6\n",
      "H_mast_ins_brown_4_white_0_7\n",
      "H_mast_ins_brown_4_white_0_8\n",
      "H_mast_ins_brown_4_white_0_9\n",
      "H_mast_ins_brown_4_white_0_10\n",
      "H_mast_ins_brown_4_white_0_11\n",
      "H_mast_ins_brown_4_white_0_12\n",
      "H_mast_ins_brown_4_white_0_13\n",
      "H_mast_ins_brown_4_white_0_14\n",
      "H_mast_ins_brown_4_white_0_15\n",
      "H_mast_ins_brown_4_white_0_16\n",
      "H_mast_ins_brown_4_white_0_17\n",
      "H_mast_ins_brown_4_white_0_18\n",
      "H_mast_ins_brown_4_white_0_19\n",
      "H_mast_ins_brown_4_white_0_20\n",
      "H_mast_ins_brown_4_white_0_21\n",
      "H_mast_ins_brown_4_white_0_22\n",
      "H_mast_ins_brown_4_white_0_23\n",
      "H_mast_ins_brown_4_white_0_24\n",
      "H_mast_ins_brown_4_white_0_25\n",
      "H_mast_ins_brown_4_white_0_26\n",
      "H_mast_ins_brown_4_white_0_27\n",
      "H_mast_ins_brown_4_white_0_28\n",
      "H_mast_ins_brown_4_white_0_29\n",
      "H_mast_ins_brown_4_white_1_0\n",
      "H_mast_ins_brown_4_white_1_1\n",
      "H_mast_ins_brown_4_white_1_2\n",
      "H_mast_ins_brown_4_white_1_3\n",
      "H_mast_ins_brown_4_white_1_4\n",
      "H_mast_ins_brown_4_white_1_5\n",
      "H_mast_ins_brown_4_white_1_6\n",
      "H_mast_ins_brown_4_white_1_7\n",
      "H_mast_ins_brown_4_white_2_0\n",
      "H_mast_ins_brown_4_white_2_1\n",
      "H_mast_ins_brown_4_white_2_2\n",
      "H_mast_ins_brown_4_white_2_3\n",
      "H_mast_ins_brown_4_white_2_4\n",
      "H_mast_ins_brown_4_white_2_5\n",
      "H_mast_ins_brown_4_white_2_6\n",
      "H_mast_ins_brown_4_white_2_7\n",
      "H_mast_ins_brown_4_white_2_8\n",
      "H_mast_ins_brown_4_white_2_9\n",
      "H_mast_ins_brown_4_white_2_10\n",
      "H_mast_ins_brown_4_white_2_11\n",
      "H_mast_ins_brown_4_white_2_12\n",
      "H_mast_ins_brown_4_white_3_00\n",
      "H_mast_ins_brown_4_white_3_01\n",
      "H_mast_ins_brown_4_white_3_02\n",
      "H_mast_ins_brown_4_white_3_03\n",
      "H_mast_ins_brown_4_white_3_04\n",
      "H_mast_ins_brown_4_white_3_05\n",
      "H_mast_ins_brown_4_white_3_06\n",
      "H_mast_ins_brown_4_white_3_07\n",
      "H_mast_ins_brown_4_white_3_08\n",
      "H_mast_ins_brown_4_white_3_09\n",
      "H_mast_ins_brown_4_white_3_10\n",
      "H_mast_ins_brown_4_white_3_11\n",
      "H_mast_ins_brown_4_white_3_12\n",
      "H_mast_ins_brown_4_white_3_13\n",
      "H_mast_ins_brown_4_white_3_14\n",
      "H_mast_ins_brown_4_white_4_00\n",
      "H_mast_ins_brown_4_white_4_01\n",
      "H_mast_ins_brown_4_white_4_02\n",
      "H_mast_ins_brown_4_white_4_03\n",
      "H_mast_ins_brown_4_white_4_04\n",
      "H_mast_ins_brown_4_white_4_05\n",
      "H_mast_ins_brown_4_white_4_06\n",
      "H_mast_ins_brown_4_white_4_07\n",
      "H_mast_ins_brown_4_white_4_08\n",
      "H_mast_ins_brown_4_white_4_09\n",
      "H_mast_ins_brown_4_white_4_10\n",
      "H_mast_ins_brown_4_white_4_11\n",
      "H_mast_ins_brown_4_white_9_0\n",
      "H_mast_ins_brown_4_white_9_1\n",
      "H_mast_ins_brown_4_white_9_2\n",
      "30\n",
      "XYZ(1586.9738699999998 2.2376699999999983 216.6) Yaw(-90.000092)\n"
     ]
    }
   ],
   "source": [
    "playerStart = control.readStartLocation(playerStartDir)\n",
    "print(playerStart)\n",
    "\n",
    "mastPrefix0 = 'H_mast_ins_brown_4_white_0'\n",
    "mastPrefix1 = 'H_mast_ins_brown_4_white_1'\n",
    "mastPrefix2 = 'H_mast_ins_brown_4_white_2'\n",
    "mastPrefix3 = 'H_mast_ins_brown_4_white_3'\n",
    "mastPrefix4 = 'H_mast_ins_brown_4_white_4'\n",
    "mastPrefix9 = 'H_mast_ins_brown_4_white_9'\n",
    "\n",
    "masts0 = control.readMastLocations(mastDir, playerStart, mastPrefix0)\n",
    "masts1 = control.readMastLocations(mastDir, playerStart, mastPrefix1)\n",
    "masts2 = control.readMastLocations(mastDir, playerStart, mastPrefix2)\n",
    "masts3 = control.readMastLocations(mastDir, playerStart, mastPrefix3)\n",
    "masts4 = control.readMastLocations(mastDir, playerStart, mastPrefix4)\n",
    "masts9 = control.readMastLocations(mastDir, playerStart, mastPrefix9)\n",
    "\n",
    "masts1[3].big_angle = RETURN_WAY\n",
    "masts2[2].big_angle = GOING_WAY\n",
    "masts2[8].big_angle = GOING_WAY\n",
    "masts2[7].big_angle = RETURN_WAY\n",
    "masts2[4].big_angle = RETURN_WAY\n",
    "masts3[3].big_angle = GOING_WAY\n",
    "masts3[13].big_angle = RETURN_WAY\n",
    "masts3[12].big_angle = RETURN_WAY\n",
    "masts3[11].big_angle = RETURN_WAY\n",
    "masts3[10].big_angle = RETURN_WAY\n",
    "masts3[9].big_angle = RETURN_WAY\n",
    "masts3[8].big_angle = RETURN_WAY\n",
    "masts3[4].big_angle = RETURN_WAY\n",
    "masts3[2].big_angle = RETURN_WAY\n",
    "masts4[2].big_angle = GOING_WAY\n",
    "masts4[8].big_angle = GOING_WAY\n",
    "masts4[10].big_angle = RETURN_WAY\n",
    "masts4[9].big_angle = RETURN_WAY\n",
    "masts4[7].big_angle = RETURN_WAY\n",
    "masts4[6].big_angle = RETURN_WAY\n",
    "masts4[4].big_angle = RETURN_WAY\n",
    "masts4[3].big_angle = RETURN_WAY\n",
    "masts4[1].big_angle = RETURN_WAY\n",
    "masts9[1].big_angle = RETURN_WAY\n",
    "\n",
    "#sanity check\n",
    "print(len(masts0))\n",
    "print(masts0[0])"
   ]
  },
  {
   "cell_type": "markdown",
   "metadata": {},
   "source": [
    "## Take off"
   ]
  },
  {
   "cell_type": "code",
   "execution_count": 3,
   "metadata": {},
   "outputs": [
    {
     "name": "stdout",
     "output_type": "stream",
     "text": [
      "Connected!\n",
      "Client Ver:1 (Min Req: 1), Server Ver:1 (Min Req: 1)\n",
      "\n"
     ]
    }
   ],
   "source": [
    "# connect to the AirSim simulator\n",
    "client = airsim.MultirotorClient()\n",
    "client.confirmConnection()\n",
    "client.enableApiControl(True)\n",
    "client.armDisarm(True)\n",
    "# takeoff\n",
    "client.simPrintLogMessage('taking off','',3)\n",
    "client.takeoffAsync().join()\n",
    "client.moveToZAsync(-1, 1).join()"
   ]
  },
  {
   "cell_type": "code",
   "execution_count": 4,
   "metadata": {},
   "outputs": [],
   "source": [
    "#TODO angle at the last mast\n",
    "def flyingAroundGroupOfMasts(masts, extra_high= 0):    \n",
    "    # Start from the first mast\n",
    "    firstInd = 0\n",
    "    control.moveToPosition(client, masts[firstInd], 0, NORTH_EAST_POS, INSPECTION_SPEED)\n",
    "    control.moveToPosition(client, masts[firstInd], 0, NORTH_POS, INSPECTION_SPEED)\n",
    "    \n",
    "    # Going way (to the last mast)\n",
    "    mastNo = len(masts)\n",
    "    for i in range(firstInd+1, mastNo):\n",
    "        print('moving to mast {}'.format(i))\n",
    "        if (masts[i].big_angle == GOING_WAY):\n",
    "            control.moveToPosition(client, masts[i], 0, NORTH_EAST_POS, NAVIGATION_SPEED)\n",
    "            \n",
    "            #get angle of current point and next mast\n",
    "            currentPoint = client.simGetGroundTruthKinematics().position\n",
    "            currentLoc = control.Location(currentPoint.x_val, currentPoint.y_val, currentPoint.z_val)            \n",
    "            yaw = control.calAngleBetween2Locs(currentLoc, masts[i+1])\n",
    "            \n",
    "            control.moveToPosition(client, masts[i], yaw, NORTH_WEST_POS, INSPECTION_SPEED)\n",
    "        else:    \n",
    "            control.moveToPosition(client, masts[i], 0, NORTH_POS, NAVIGATION_SPEED, extra_high)\n",
    "        \n",
    "\n",
    "    #Turn back at the last Mast\n",
    "    control.moveToPosition(client, masts[mastNo - 1], 0, NORTH_WEST_POS, INSPECTION_SPEED, extra_high)\n",
    "    client.hoverAsync().join()\n",
    "    time.sleep(5)\n",
    "    medium_speed = 0.75#(INSPECTION_SPEED + NAVIGATION_SPEED) / 2.0\n",
    "    control.moveToPosition(client, masts[mastNo - 1], 0, SOUTH_WEST_POS, medium_speed, extra_high)\n",
    "    client.hoverAsync().join()\n",
    "    time.sleep(5)\n",
    "\n",
    "\n",
    "    #Return to the first Mast\n",
    "    for i in range(mastNo-1, firstInd-1, -1):\n",
    "        print('moving to mast {}'.format(i))\n",
    "        if (masts[i].big_angle == RETURN_WAY):\n",
    "            control.moveToPosition(client, masts[i], 0, SOUTH_WEST_POS, NAVIGATION_SPEED)\n",
    "            \n",
    "            #get angle of current point and next mast\n",
    "            currentPoint = client.simGetGroundTruthKinematics().position\n",
    "            currentLoc = control.Location(currentPoint.x_val, currentPoint.y_val, currentPoint.z_val)            \n",
    "            yaw = control.calAngleBetween2Locs(currentLoc, masts[i-1])\n",
    "            \n",
    "            control.moveToPosition(client, masts[i], yaw, SOUTH_EAST_POS, INSPECTION_SPEED)\n",
    "        else:\n",
    "            if i != mastNo-1:\n",
    "                control.moveToPosition(client, masts[i], 0, SOUTH_POS, NAVIGATION_SPEED)\n",
    "            else:\n",
    "                control.moveToPosition(client, masts[i], 0, SOUTH_POS, INSPECTION_SPEED, extra_high)\n",
    "    \n",
    "    control.moveToPosition(client, masts[firstInd], 0, SOUTH_EAST_POS, INSPECTION_SPEED)\n",
    "    control.moveToPosition(client, masts[firstInd], 0, NORTH_EAST_POS, medium_speed)"
   ]
  },
  {
   "cell_type": "markdown",
   "metadata": {},
   "source": [
    "### adjust camera orientation"
   ]
  },
  {
   "cell_type": "code",
   "execution_count": 5,
   "metadata": {},
   "outputs": [],
   "source": [
    "client.simSetCameraOrientation(\"0\", airsim.to_quaternion(-0.7854, 0, 0)) # 45 degree \n",
    "client.simSetCameraOrientation(\"1\", airsim.to_quaternion(-0.7854, 0, 0)) # 45 degree\n",
    "client.simSetCameraOrientation(\"2\", airsim.to_quaternion(-0.7854, 0, 0)) # 45 degree\n",
    "client.simSetCameraOrientation(\"3\", airsim.to_quaternion(-0.7854, 0, 0)) # 45 degree\n",
    "client.simSetCameraOrientation(\"4\", airsim.to_quaternion(-0.7854, 0, 0)) # 45 degree"
   ]
  },
  {
   "cell_type": "code",
   "execution_count": 6,
   "metadata": {},
   "outputs": [],
   "source": [
    "def setWeather(rain=0, snow=0, fog=0, mapleleaf=0, dust=0):\n",
    "    client.simEnableWeather(True)\n",
    "    client.simSetWeatherParameter(airsim.WeatherParameter.Rain, rain)\n",
    "    client.simSetWeatherParameter(airsim.WeatherParameter.Snow, snow)\n",
    "    client.simSetWeatherParameter(airsim.WeatherParameter.Fog, fog)\n",
    "    client.simSetWeatherParameter(airsim.WeatherParameter.MapleLeaf, mapleleaf)\n",
    "    client.simSetWeatherParameter(airsim.WeatherParameter.Dust, dust)\n",
    "    "
   ]
  },
  {
   "cell_type": "code",
   "execution_count": 7,
   "metadata": {},
   "outputs": [
    {
     "name": "stdout",
     "output_type": "stream",
     "text": [
      "distance:  0.8579763423221861\n",
      "distance to finalPoint destination is 0.3579763423221861\n",
      "distance:  3.0628785363930136\n",
      "distance to finalPoint destination is 0.004966598777678353\n",
      "moving to mast 1\n",
      "distance:  64.8696566695181\n",
      "distance to finalPoint destination is 0.09270592632396718\n",
      "distance:  2.5928906072247204\n",
      "distance to finalPoint destination is 0.01917033987077832\n",
      "distance:  4.673890416959664\n",
      "distance to finalPoint destination is 0.1331684625939902\n",
      "moving to mast 1\n",
      "distance:  1.910795282652216\n",
      "distance to finalPoint destination is 0.2197887993265394\n",
      "moving to mast 0\n",
      "distance:  64.80901502659094\n",
      "distance to finalPoint destination is 0.084852978909432\n",
      "distance:  2.608776391866686\n",
      "distance to finalPoint destination is 0.0056965436994616606\n",
      "distance:  4.527799106053944\n",
      "distance to finalPoint destination is 0.004199992617279075\n"
     ]
    }
   ],
   "source": [
    "# flyingAroundGroupOfMasts(masts0[14:16], 1)\n",
    "\n",
    "# flyingAroundGroupOfMasts(masts0[15:17], 1)\n",
    "\n",
    "flyingAroundGroupOfMasts(masts0[22:24], 1)\n",
    "\n",
    "# control.moveToPosition(client, masts0[17], 0, SOUTH_EAST_POS, 5)\n",
    "# flyingAroundGroupOfMasts(masts0[17:22])\n",
    "\n",
    "# control.moveToPosition(client, masts0[21], 0, SOUTH_EAST_POS, 5)\n",
    "# flyingAroundGroupOfMasts(masts0[21:24])"
   ]
  },
  {
   "cell_type": "markdown",
   "metadata": {},
   "source": [
    "### Flying around"
   ]
  },
  {
   "cell_type": "markdown",
   "metadata": {},
   "source": [
    "## Landing"
   ]
  },
  {
   "cell_type": "code",
   "execution_count": 8,
   "metadata": {},
   "outputs": [],
   "source": [
    "client.landAsync().join()\n",
    "client.armDisarm(False)\n",
    "\n",
    "# that's enough fun for now. let's quit cleanly\n",
    "client.enableApiControl(False)"
   ]
  },
  {
   "cell_type": "code",
   "execution_count": null,
   "metadata": {},
   "outputs": [],
   "source": []
  }
 ],
 "metadata": {
  "kernelspec": {
   "display_name": "Python 3",
   "language": "python",
   "name": "python3"
  },
  "language_info": {
   "codemirror_mode": {
    "name": "ipython",
    "version": 3
   },
   "file_extension": ".py",
   "mimetype": "text/x-python",
   "name": "python",
   "nbconvert_exporter": "python",
   "pygments_lexer": "ipython3",
   "version": "3.6.5"
  }
 },
 "nbformat": 4,
 "nbformat_minor": 2
}
