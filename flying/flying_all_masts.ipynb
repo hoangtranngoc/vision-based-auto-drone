{
 "cells": [
  {
   "cell_type": "code",
   "execution_count": 1,
   "metadata": {},
   "outputs": [
    {
     "name": "stdout",
     "output_type": "stream",
     "text": [
      "['', 'C:\\\\ProgramData\\\\Anaconda3\\\\python36.zip', 'C:\\\\ProgramData\\\\Anaconda3\\\\DLLs', 'C:\\\\ProgramData\\\\Anaconda3\\\\lib', 'C:\\\\ProgramData\\\\Anaconda3', 'C:\\\\Users\\\\hoang\\\\AppData\\\\Roaming\\\\Python\\\\Python36\\\\site-packages', 'C:\\\\ProgramData\\\\Anaconda3\\\\lib\\\\site-packages', 'C:\\\\ProgramData\\\\Anaconda3\\\\lib\\\\site-packages\\\\win32', 'C:\\\\ProgramData\\\\Anaconda3\\\\lib\\\\site-packages\\\\win32\\\\lib', 'C:\\\\ProgramData\\\\Anaconda3\\\\lib\\\\site-packages\\\\Pythonwin', 'C:\\\\ProgramData\\\\Anaconda3\\\\lib\\\\site-packages\\\\IPython\\\\extensions', 'C:\\\\Users\\\\hoang\\\\.ipython', 'E:\\\\git\\\\AirSim\\\\PythonClient']\n",
      "-- ['', 'C:\\\\ProgramData\\\\Anaconda3\\\\python36.zip', 'C:\\\\ProgramData\\\\Anaconda3\\\\DLLs', 'C:\\\\ProgramData\\\\Anaconda3\\\\lib', 'C:\\\\ProgramData\\\\Anaconda3', 'C:\\\\Users\\\\hoang\\\\AppData\\\\Roaming\\\\Python\\\\Python36\\\\site-packages', 'C:\\\\ProgramData\\\\Anaconda3\\\\lib\\\\site-packages', 'C:\\\\ProgramData\\\\Anaconda3\\\\lib\\\\site-packages\\\\win32', 'C:\\\\ProgramData\\\\Anaconda3\\\\lib\\\\site-packages\\\\win32\\\\lib', 'C:\\\\ProgramData\\\\Anaconda3\\\\lib\\\\site-packages\\\\Pythonwin', 'C:\\\\ProgramData\\\\Anaconda3\\\\lib\\\\site-packages\\\\IPython\\\\extensions', 'C:\\\\Users\\\\hoang\\\\.ipython', 'E:\\\\git\\\\AirSim\\\\PythonClient']\n"
     ]
    }
   ],
   "source": [
    "import common_functions as control\n",
    "from common_types import *\n",
    "import airsim\n",
    "import time\n",
    "\n",
    "mastDir = 'C:\\\\Users\\\\hoang\\\\WorkingSpace\\\\Unreal Projects\\\\DroneSimulator_Normal2\\\\Map_objects_info\\\\Masts'\n",
    "playerStartDir = 'C:\\\\Users\\\\hoang\\\\WorkingSpace\\\\Unreal Projects\\\\DroneSimulator_Normal2\\\\Map_objects_info\\\\PlayerStart'"
   ]
  },
  {
   "cell_type": "markdown",
   "metadata": {},
   "source": [
    "# Reading masts & player start location"
   ]
  },
  {
   "cell_type": "code",
   "execution_count": 2,
   "metadata": {},
   "outputs": [
    {
     "name": "stdout",
     "output_type": "stream",
     "text": [
      "XYZ(-60829.094 -5470.213 24053.887) Yaw(0.0)\n",
      "H_mast_ins_brown_4_white_0_0\n",
      "H_mast_ins_brown_4_white_0_1\n",
      "H_mast_ins_brown_4_white_0_2\n",
      "H_mast_ins_brown_4_white_0_3\n",
      "H_mast_ins_brown_4_white_0_4\n",
      "H_mast_ins_brown_4_white_0_5\n",
      "H_mast_ins_brown_4_white_0_6\n",
      "H_mast_ins_brown_4_white_0_7\n",
      "H_mast_ins_brown_4_white_0_8\n",
      "H_mast_ins_brown_4_white_0_9\n",
      "H_mast_ins_brown_4_white_0_10\n",
      "H_mast_ins_brown_4_white_0_11\n",
      "H_mast_ins_brown_4_white_0_12\n",
      "H_mast_ins_brown_4_white_0_13\n",
      "H_mast_ins_brown_4_white_0_14\n",
      "H_mast_ins_brown_4_white_0_15\n",
      "H_mast_ins_brown_4_white_0_16\n",
      "H_mast_ins_brown_4_white_0_17\n",
      "H_mast_ins_brown_4_white_0_18\n",
      "H_mast_ins_brown_4_white_0_19\n",
      "H_mast_ins_brown_4_white_0_20\n",
      "H_mast_ins_brown_4_white_0_21\n",
      "H_mast_ins_brown_4_white_0_22\n",
      "H_mast_ins_brown_4_white_0_23\n",
      "H_mast_ins_brown_4_white_0_23_1\n",
      "H_mast_ins_brown_4_white_0_24\n",
      "H_mast_ins_brown_4_white_0_25\n",
      "H_mast_ins_brown_4_white_0_26\n",
      "H_mast_ins_brown_4_white_0_27\n",
      "H_mast_ins_brown_4_white_0_28\n",
      "H_mast_ins_brown_4_white_0_29\n",
      "H_mast_ins_brown_4_white_0_30\n",
      "H_mast_ins_brown_4_white_0_31\n",
      "H_mast_ins_brown_4_white_1_0\n",
      "H_mast_ins_brown_4_white_1_1\n",
      "H_mast_ins_brown_4_white_1_2\n",
      "H_mast_ins_brown_4_white_1_3\n",
      "H_mast_ins_brown_4_white_1_4\n",
      "H_mast_ins_brown_4_white_1_5\n",
      "H_mast_ins_brown_4_white_1_6\n",
      "H_mast_ins_brown_4_white_1_7\n",
      "H_mast_ins_brown_4_white_2_0\n",
      "H_mast_ins_brown_4_white_2_1\n",
      "H_mast_ins_brown_4_white_2_2\n",
      "H_mast_ins_brown_4_white_2_3\n",
      "H_mast_ins_brown_4_white_2_4\n",
      "H_mast_ins_brown_4_white_2_5\n",
      "H_mast_ins_brown_4_white_2_6\n",
      "H_mast_ins_brown_4_white_2_7\n",
      "H_mast_ins_brown_4_white_2_8\n",
      "H_mast_ins_brown_4_white_2_9\n",
      "H_mast_ins_brown_4_white_2_10\n",
      "H_mast_ins_brown_4_white_2_11\n",
      "H_mast_ins_brown_4_white_2_12\n",
      "H_mast_ins_brown_4_white_3_00\n",
      "H_mast_ins_brown_4_white_3_01\n",
      "H_mast_ins_brown_4_white_3_02\n",
      "H_mast_ins_brown_4_white_3_03\n",
      "H_mast_ins_brown_4_white_3_04\n",
      "H_mast_ins_brown_4_white_3_05\n",
      "H_mast_ins_brown_4_white_3_06\n",
      "H_mast_ins_brown_4_white_3_07\n",
      "H_mast_ins_brown_4_white_3_08\n",
      "H_mast_ins_brown_4_white_3_09\n",
      "H_mast_ins_brown_4_white_3_10\n",
      "H_mast_ins_brown_4_white_3_11\n",
      "H_mast_ins_brown_4_white_3_12\n",
      "H_mast_ins_brown_4_white_3_13\n",
      "H_mast_ins_brown_4_white_3_14\n",
      "H_mast_ins_brown_4_white_4_00\n",
      "H_mast_ins_brown_4_white_4_01\n",
      "H_mast_ins_brown_4_white_4_02\n",
      "H_mast_ins_brown_4_white_4_03\n",
      "H_mast_ins_brown_4_white_4_04\n",
      "H_mast_ins_brown_4_white_4_05\n",
      "H_mast_ins_brown_4_white_4_06\n",
      "H_mast_ins_brown_4_white_4_07\n",
      "H_mast_ins_brown_4_white_4_08\n",
      "H_mast_ins_brown_4_white_4_09\n",
      "H_mast_ins_brown_4_white_4_10\n",
      "H_mast_ins_brown_4_white_4_11\n",
      "H_mast_ins_brown_4_white_5_0\n",
      "H_mast_ins_brown_4_white_5_1\n",
      "H_mast_ins_brown_4_white_5_2\n",
      "H_mast_ins_brown_4_white_5_3\n",
      "H_mast_ins_brown_4_white_5_4\n",
      "H_mast_ins_brown_4_white_5_5\n",
      "H_mast_ins_brown_4_white_5_6\n",
      "H_mast_ins_brown_4_white_5_7\n",
      "H_mast_ins_brown_4_white_5_8\n",
      "H_mast_ins_brown_4_white_9_0\n",
      "H_mast_ins_brown_4_white_9_1\n",
      "H_mast_ins_brown_4_white_9_2\n",
      "33\n",
      "XYZ(1617.7909399999999 24.452109999999998 230.23887) Yaw(-90.000092)\n"
     ]
    }
   ],
   "source": [
    "playerStart = control.readStartLocation(playerStartDir)\n",
    "print(playerStart)\n",
    "\n",
    "mastPrefix0 = 'H_mast_ins_brown_4_white_0'\n",
    "mastPrefix1 = 'H_mast_ins_brown_4_white_1'\n",
    "mastPrefix2 = 'H_mast_ins_brown_4_white_2'\n",
    "mastPrefix3 = 'H_mast_ins_brown_4_white_3'\n",
    "mastPrefix4 = 'H_mast_ins_brown_4_white_4'\n",
    "mastPrefix5 = 'H_mast_ins_brown_4_white_5'\n",
    "mastPrefix9 = 'H_mast_ins_brown_4_white_9'\n",
    "\n",
    "masts0 = control.readMastLocations(mastDir, playerStart, mastPrefix0)\n",
    "masts1 = control.readMastLocations(mastDir, playerStart, mastPrefix1)\n",
    "masts2 = control.readMastLocations(mastDir, playerStart, mastPrefix2)\n",
    "masts3 = control.readMastLocations(mastDir, playerStart, mastPrefix3)\n",
    "masts4 = control.readMastLocations(mastDir, playerStart, mastPrefix4)\n",
    "masts5 = control.readMastLocations(mastDir, playerStart, mastPrefix5)\n",
    "masts9 = control.readMastLocations(mastDir, playerStart, mastPrefix9)\n",
    "\n",
    "masts5[1].big_angle = GOING_WAY\n",
    "masts5[2].big_angle = GOING_WAY\n",
    "masts5[4].big_angle = GOING_WAY\n",
    "masts5[3].big_angle = RETURN_WAY\n",
    "\n",
    "masts1[3].big_angle = RETURN_WAY\n",
    "masts2[2].big_angle = GOING_WAY\n",
    "masts2[8].big_angle = GOING_WAY\n",
    "masts2[7].big_angle = RETURN_WAY\n",
    "masts2[4].big_angle = RETURN_WAY\n",
    "masts3[3].big_angle = GOING_WAY\n",
    "masts3[13].big_angle = RETURN_WAY\n",
    "masts3[12].big_angle = RETURN_WAY\n",
    "masts3[11].big_angle = RETURN_WAY\n",
    "masts3[10].big_angle = RETURN_WAY\n",
    "masts3[9].big_angle = RETURN_WAY\n",
    "masts3[8].big_angle = RETURN_WAY\n",
    "masts3[4].big_angle = RETURN_WAY\n",
    "masts3[2].big_angle = RETURN_WAY\n",
    "masts4[2].big_angle = GOING_WAY\n",
    "masts4[8].big_angle = GOING_WAY\n",
    "masts4[10].big_angle = RETURN_WAY\n",
    "masts4[9].big_angle = RETURN_WAY\n",
    "masts4[7].big_angle = RETURN_WAY\n",
    "masts4[6].big_angle = RETURN_WAY\n",
    "masts4[4].big_angle = RETURN_WAY\n",
    "masts4[3].big_angle = RETURN_WAY\n",
    "masts4[1].big_angle = RETURN_WAY\n",
    "masts9[1].big_angle = RETURN_WAY\n",
    "\n",
    "#sanity check\n",
    "print(len(masts0))\n",
    "print(masts0[0])"
   ]
  },
  {
   "cell_type": "markdown",
   "metadata": {},
   "source": [
    "## Take off"
   ]
  },
  {
   "cell_type": "code",
   "execution_count": 3,
   "metadata": {},
   "outputs": [
    {
     "name": "stdout",
     "output_type": "stream",
     "text": [
      "Connected!\n",
      "Client Ver:1 (Min Req: 1), Server Ver:1 (Min Req: 1)\n",
      "\n"
     ]
    }
   ],
   "source": [
    "# connect to the AirSim simulator\n",
    "client = airsim.MultirotorClient()\n",
    "client.confirmConnection()\n",
    "client.enableApiControl(True)\n",
    "client.armDisarm(True)\n",
    "# takeoff\n",
    "client.simPrintLogMessage('taking off','',3)\n",
    "client.takeoffAsync().join()\n",
    "client.moveToZAsync(-1, 1).join()"
   ]
  },
  {
   "cell_type": "code",
   "execution_count": 4,
   "metadata": {},
   "outputs": [],
   "source": [
    "import random\n",
    "\n",
    "rain_values = [0, 0.5, 1]\n",
    "snow_values = [0, 0.5, 1]\n",
    "fog_values = [0, 0.25, 0.5, 0.75, 1]\n",
    "mapleleaf_values = [0, 0, 0, 0, 0.25, 0.5]\n",
    "dust_values = [0, 0.1, 0.25, 0.5, 0.75, 1]\n",
    "def setWeather(rain=0, snow=0, fog=0, mapleleaf=0, dust=0, isRandom=False):\n",
    "    client.simEnableWeather(True)   \n",
    "    if isRandom:\n",
    "        r = random.choice(rain_values)\n",
    "        s = random.choice(snow_values)\n",
    "        f = random.choice(fog_values)\n",
    "        l = random.choice(mapleleaf_values)\n",
    "        d = random.choice(dust_values)   \n",
    "    else:\n",
    "        r = rain\n",
    "        s = snow\n",
    "        f = fog\n",
    "        l = mapleleaf\n",
    "        d = dust\n",
    "    \n",
    "    print (\"r{}, s{}, f{}, l{}, d{}\".format(r,s,f,l,d))\n",
    "    client.simSetWeatherParameter(airsim.WeatherParameter.Rain, r)\n",
    "    client.simSetWeatherParameter(airsim.WeatherParameter.Snow, s)\n",
    "    client.simSetWeatherParameter(airsim.WeatherParameter.Fog, f)\n",
    "    client.simSetWeatherParameter(airsim.WeatherParameter.MapleLeaf, l)\n",
    "    client.simSetWeatherParameter(airsim.WeatherParameter.Dust, d)"
   ]
  },
  {
   "cell_type": "code",
   "execution_count": null,
   "metadata": {},
   "outputs": [],
   "source": []
  },
  {
   "cell_type": "markdown",
   "metadata": {},
   "source": [
    "## 33\n"
   ]
  },
  {
   "cell_type": "code",
   "execution_count": 5,
   "metadata": {},
   "outputs": [],
   "source": [
    "def flyingAroundGroupOfMasts(masts, extra_high= 0):    \n",
    "    # Start from the first mast\n",
    "    firstInd = 0\n",
    "#     control.moveToPosition(client, masts[firstInd], 0, NORTH_EAST_POS, INSPECTION_SPEED)\n",
    "    \n",
    "    # Going way (to the last mast)\n",
    "    mastNo = len(masts)\n",
    "    for i in range(firstInd+1, mastNo):\n",
    "#         setWeather(isRandom=True)\n",
    "        print('moving to mast {}'.format(i))\n",
    "        if (masts[i].big_angle == GOING_WAY):\n",
    "            control.moveToPosition(client, masts[i], 0, NORTH_EAST_POS, NAVIGATION_SPEED)\n",
    "            \n",
    "            #get angle of current point and next mast\n",
    "            currentPoint = client.simGetGroundTruthKinematics().position\n",
    "            currentLoc = control.Location(currentPoint.x_val, currentPoint.y_val, currentPoint.z_val)            \n",
    "            yaw = control.calAngleBetween2Locs(currentLoc, masts[i+1])\n",
    "            \n",
    "            control.moveToPosition(client, masts[i], yaw, NORTH_WEST_POS, INSPECTION_SPEED)\n",
    "        else:    \n",
    "            control.moveToPosition(client, masts[i], 0, NORTH_POS, NAVIGATION_SPEED)\n",
    "        \n",
    "\n",
    "#     #Turn back at the last Mast\n",
    "#     control.moveToPosition(client, masts[mastNo - 1], 0, NORTH_WEST_POS, INSPECTION_SPEED, extra_high)\n",
    "#     client.hoverAsync().join()\n",
    "#     time.sleep(5)\n",
    "#     medium_speed = 0.75#(INSPECTION_SPEED + NAVIGATION_SPEED) / 2.0\n",
    "#     control.moveToPosition(client, masts[mastNo - 1], 0, SOUTH_WEST_POS, medium_speed, extra_high)\n",
    "#     client.hoverAsync().join()\n",
    "#     time.sleep(5)\n",
    "\n",
    "\n",
    "    #Return to the first Mast\n",
    "#     for i in range(mastNo-1, firstInd-1, -1):\n",
    "#         setWeather(isRandom=True)\n",
    "#         print('moving to mast {}'.format(i))\n",
    "#         if (masts[i].big_angle == RETURN_WAY):\n",
    "#             control.moveToPosition(client, masts[i], 0, SOUTH_WEST_POS, NAVIGATION_SPEED)\n",
    "            \n",
    "#             #get angle of current point and next mast\n",
    "#             currentPoint = client.simGetGroundTruthKinematics().position\n",
    "#             currentLoc = control.Location(currentPoint.x_val, currentPoint.y_val, currentPoint.z_val)            \n",
    "#             yaw = control.calAngleBetween2Locs(currentLoc, masts[i-1])\n",
    "            \n",
    "#             control.moveToPosition(client, masts[i], yaw, SOUTH_EAST_POS, INSPECTION_SPEED)\n",
    "#         else:\n",
    "#             if i != mastNo-1:\n",
    "#                 control.moveToPosition(client, masts[i], 0, SOUTH_POS, NAVIGATION_SPEED)\n",
    "#             else:\n",
    "#                 control.moveToPosition(client, masts[i], 0, SOUTH_POS, INSPECTION_SPEED)\n",
    "    \n",
    "#     control.moveToPosition(client, masts[firstInd], 0, SOUTH_EAST_POS, INSPECTION_SPEED)\n",
    "#     control.moveToPosition(client, masts[firstInd], 0, NORTH_EAST_POS, medium_speed)\n",
    "    #control.moveToPosition(client, masts[firstInd], masts[firstInd].yaw, NORTH_WEST_POS, INSPECTION_SPEED)"
   ]
  },
  {
   "cell_type": "markdown",
   "metadata": {},
   "source": [
    "### adjust camera orientation"
   ]
  },
  {
   "cell_type": "code",
   "execution_count": 6,
   "metadata": {},
   "outputs": [],
   "source": [
    "client.simSetCameraOrientation(\"0\", airsim.to_quaternion(-0.7854, 0, 0)) # 45 degree \n",
    "client.simSetCameraOrientation(\"1\", airsim.to_quaternion(-0.7854, 0, 0)) # 45 degree\n",
    "client.simSetCameraOrientation(\"2\", airsim.to_quaternion(-0.7854, 0, 0)) # 45 degree\n",
    "client.simSetCameraOrientation(\"3\", airsim.to_quaternion(-0.7854, 0, 0)) # 45 degree\n",
    "client.simSetCameraOrientation(\"4\", airsim.to_quaternion(-0.7854, 0, 0)) # 45 degreewd"
   ]
  },
  {
   "cell_type": "markdown",
   "metadata": {},
   "source": [
    "### Flying around"
   ]
  },
  {
   "cell_type": "code",
   "execution_count": 7,
   "metadata": {},
   "outputs": [
    {
     "name": "stdout",
     "output_type": "stream",
     "text": [
      "moving to mast 1\n",
      "distance:  42.57450667393156\n",
      "distance to finalPoint destination is 0.1902997414160791\n",
      "distance:  4.74522297333237\n",
      "big angle, turning left {}  -341.290135550103\n",
      "distance to finalPoint destination is 0.010771146608566186\n",
      "moving to mast 2\n",
      "distance:  56.6041096617189\n",
      "distance to finalPoint destination is 0.05058197828230596\n",
      "distance:  4.870811207884603\n",
      "big angle, turning left {}  -12.416093967485693\n",
      "distance to finalPoint destination is 0.720295419176579\n",
      "moving to mast 3\n",
      "distance:  50.49802487931326\n",
      "distance to finalPoint destination is 0.042049490284963194\n",
      "moving to mast 4\n",
      "distance:  48.38856806547877\n",
      "distance to finalPoint destination is 0.027660258190629426\n",
      "distance:  4.908416930738306\n",
      "big angle, turning left {}  328.4921732855618\n",
      "distance to finalPoint destination is 0.5825458837253329\n",
      "moving to mast 5\n",
      "distance:  60.73398967797907\n",
      "distance to finalPoint destination is 0.021693431978749574\n",
      "moving to mast 6\n",
      "distance:  62.703615846836854\n",
      "distance to finalPoint destination is 0.026833944759239503\n",
      "moving to mast 7\n",
      "distance:  75.3479657863594\n",
      "distance to finalPoint destination is 0.024932137195015795\n",
      "moving to mast 8\n",
      "distance:  0.47360975918280274\n",
      "distance to finalPoint destination is 0.12747570172375777\n"
     ]
    }
   ],
   "source": [
    "# flyingAroundGroupOfMasts(masts1)\n",
    "\n",
    "flyingAroundGroupOfMasts(masts5)\n",
    "\n",
    "# control.moveToPosition(client, masts0[0], 0, SOUTH_EAST_POS, 5)\n",
    "# flyingAroundGroupOfMasts(masts0[:15], 0.5)\n",
    "\n",
    "# control.moveToPosition(client, masts2[0], 0, SOUTH_EAST_POS, 5)\n",
    "# flyingAroundGroupOfMasts(masts2)\n",
    "\n",
    "# control.moveToPosition(client, masts3[0], 0, SOUTH_EAST_POS, 5)\n",
    "# flyingAroundGroupOfMasts(masts3)\n",
    "\n",
    "# control.moveToPosition(client, masts4[0], 0, SOUTH_EAST_POS, 5)\n",
    "# flyingAroundGroupOfMasts(masts4)\n",
    "\n",
    "# control.moveToPosition(client, masts9[0], 0, SOUTH_EAST_POS, 5)\n",
    "# flyingAroundGroupOfMasts(masts9)"
   ]
  },
  {
   "cell_type": "markdown",
   "metadata": {},
   "source": [
    "## Landing"
   ]
  },
  {
   "cell_type": "code",
   "execution_count": 8,
   "metadata": {},
   "outputs": [],
   "source": [
    "client.landAsync().join()\n",
    "client.armDisarm(False)\n",
    "\n",
    "# that's enough fun for now. let's quit cleanly\n",
    "client.enableApiControl(False)"
   ]
  },
  {
   "cell_type": "code",
   "execution_count": null,
   "metadata": {},
   "outputs": [],
   "source": []
  },
  {
   "cell_type": "code",
   "execution_count": null,
   "metadata": {},
   "outputs": [],
   "source": []
  }
 ],
 "metadata": {
  "kernelspec": {
   "display_name": "Python 3",
   "language": "python",
   "name": "python3"
  },
  "language_info": {
   "codemirror_mode": {
    "name": "ipython",
    "version": 3
   },
   "file_extension": ".py",
   "mimetype": "text/x-python",
   "name": "python",
   "nbconvert_exporter": "python",
   "pygments_lexer": "ipython3",
   "version": "3.6.5"
  }
 },
 "nbformat": 4,
 "nbformat_minor": 2
}
