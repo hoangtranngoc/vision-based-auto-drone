{
 "cells": [
  {
   "cell_type": "markdown",
   "metadata": {},
   "source": [
    "## WARNING: run this script will overwrite the split of train & validation sets "
   ]
  },
  {
   "cell_type": "code",
   "execution_count": 1,
   "metadata": {},
   "outputs": [],
   "source": [
    "\n",
    "import tensorflow as tf\n",
    "\n",
    "import imp\n",
    "imp.find_module('object_detection')\n",
    "from object_detection.utils import dataset_util\n",
    "from object_detection.utils import label_map_util\n",
    "import xml.etree.ElementTree as ET\n",
    "\n",
    "from os import listdir\n",
    "from os.path import isfile, join\n",
    "import random\n",
    "\n",
    "DATA_DIR = \"E:\\\\UAV_drone\\\\data\\\\object_detection\\\\training\"\n",
    "train_record_path = join(DATA_DIR,\"train.record\")\n",
    "val_record_path = join(DATA_DIR,\"val.record\")\n",
    "annotation_set_dir = join(DATA_DIR, \"annotations\")\n",
    "image_set_dir = join(DATA_DIR, \"images\")\n",
    "label_map_path = join(DATA_DIR, \"label_map.pbtxt\")\n",
    "train_file = join(DATA_DIR, \"train_set.txt\")\n",
    "val_file = join(DATA_DIR, \"val_set.txt\")"
   ]
  },
  {
   "cell_type": "code",
   "execution_count": 2,
   "metadata": {},
   "outputs": [],
   "source": [
    "# print(OUTPUT_PATH)"
   ]
  },
  {
   "cell_type": "code",
   "execution_count": 3,
   "metadata": {},
   "outputs": [
    {
     "name": "stdout",
     "output_type": "stream",
     "text": [
      "750\n",
      "251\n"
     ]
    }
   ],
   "source": [
    "# TODO(user): Write code to read in your dataset to examples variable\n",
    "\n",
    "samples = [f for f in listdir(image_set_dir) if isfile(join(image_set_dir, f))]\n",
    "random.shuffle (samples)\n",
    "split_ind = int(0.75*len(samples))\n",
    "train_set = samples[:split_ind]\n",
    "print (len(train_set))\n",
    "val_set = samples[split_ind:]\n",
    "print (len(val_set))\n",
    "\n",
    "with open(train_file, 'w') as trf:\n",
    "    trf.write(\"\\n\".join(train_set))\n",
    "with open(val_file, 'w') as vaf:\n",
    "    vaf.write(\"\\n\".join(val_set))"
   ]
  },
  {
   "cell_type": "code",
   "execution_count": 4,
   "metadata": {},
   "outputs": [],
   "source": [
    "# flags = tf.app.flags\n",
    "# flags.DEFINE_string('output_path', '', 'Path to output TFRecord')\n",
    "# FLAGS = flags.FLAGS\n",
    "label_map_dict = label_map_util.get_label_map_dict(label_map_path)\n",
    "\n",
    "def create_tf_example(example):\n",
    "    # TODO(user): Populate the following variables from your example.\n",
    "    root = ET.parse(join(annotation_set_dir, example+\".map\")).getroot()\n",
    "    \n",
    "    height = int(root.find('size').get('height')) # Image height\n",
    "    width = int(root.find('size').get('width')) # Image width\n",
    "    \n",
    "    filename = example.encode('utf8') # Filename of the image. Empty if image is not from file\n",
    "    with tf.gfile.GFile(join(image_set_dir, example), 'rb') as fid:\n",
    "        encoded_jpg = fid.read()\n",
    "    encoded_image_data = encoded_jpg # Encoded image bytes\n",
    "    image_format = b'jpg' # b'jpeg' or b'png'\n",
    "\n",
    "    xmins = [] # List of normalized left x coordinates in bounding box (1 per box)\n",
    "    xmaxs = [] # List of normalized right x coordinates in bounding box\n",
    "             # (1 per box)\n",
    "    ymins = [] # List of normalized top y coordinates in bounding box (1 per box)\n",
    "    ymaxs = [] # List of normalized bottom y coordinates in bounding box\n",
    "             # (1 per box)\n",
    "    classes_text = [] # List of string class name of bounding box (1 per box)\n",
    "    classes = [] # List of integer class id of bounding box (1 per box)\n",
    "    \n",
    "    for element in root.findall('area'):\n",
    "        coords = list(map(int, element.get('coords').split(\",\")))\n",
    "        xmins.append(float(coords[0])/width)\n",
    "        xmaxs.append(float(coords[2])/width)\n",
    "        ymins.append(float(coords[1])/height)\n",
    "        ymaxs.append(float(coords[3])/height)\n",
    "        class_name = element.get('title')\n",
    "        classes_text.append(class_name.encode('utf8'))\n",
    "        classes.append(label_map_dict[class_name])\n",
    "\n",
    "\n",
    "    tf_example = tf.train.Example(features=tf.train.Features(feature={\n",
    "      'image/height': dataset_util.int64_feature(height),\n",
    "      'image/width': dataset_util.int64_feature(width),\n",
    "      'image/filename': dataset_util.bytes_feature(filename),\n",
    "      'image/source_id': dataset_util.bytes_feature(filename),\n",
    "      'image/encoded': dataset_util.bytes_feature(encoded_image_data),\n",
    "      'image/format': dataset_util.bytes_feature(image_format),\n",
    "      'image/object/bbox/xmin': dataset_util.float_list_feature(xmins),\n",
    "      'image/object/bbox/xmax': dataset_util.float_list_feature(xmaxs),\n",
    "      'image/object/bbox/ymin': dataset_util.float_list_feature(ymins),\n",
    "      'image/object/bbox/ymax': dataset_util.float_list_feature(ymaxs),\n",
    "      'image/object/class/text': dataset_util.bytes_list_feature(classes_text),\n",
    "      'image/object/class/label': dataset_util.int64_list_feature(classes),\n",
    "    }))\n",
    "    return tf_example\n"
   ]
  },
  {
   "cell_type": "code",
   "execution_count": null,
   "metadata": {},
   "outputs": [],
   "source": [
    "    "
   ]
  },
  {
   "cell_type": "code",
   "execution_count": 5,
   "metadata": {},
   "outputs": [],
   "source": [
    "def write_tfrecord(set_files, path):\n",
    "    writer = tf.python_io.TFRecordWriter(path)\n",
    "    for sample in set_files:\n",
    "        tf_example = create_tf_example(sample)\n",
    "        writer.write(tf_example.SerializeToString())\n",
    "    writer.close()\n",
    "    \n",
    "write_tfrecord(train_set, train_record_path)\n",
    "write_tfrecord(val_set, val_record_path)"
   ]
  },
  {
   "cell_type": "code",
   "execution_count": 8,
   "metadata": {},
   "outputs": [
    {
     "name": "stderr",
     "output_type": "stream",
     "text": [
      "IOPub data rate exceeded.\n",
      "The notebook server will temporarily stop sending output\n",
      "to the client in order to avoid crashing it.\n",
      "To change this limit, set the config variable\n",
      "`--NotebookApp.iopub_data_rate_limit`.\n",
      "\n",
      "Current values:\n",
      "NotebookApp.iopub_data_rate_limit=1000000.0 (bytes/sec)\n",
      "NotebookApp.rate_limit_window=3.0 (secs)\n",
      "\n"
     ]
    }
   ],
   "source": [
    "# verify\n",
    "for example in tf.python_io.tf_record_iterator(OUTPUT_PATH):\n",
    "    result = tf.train.Example.FromString(example)\n",
    "    print (result)"
   ]
  },
  {
   "cell_type": "code",
   "execution_count": null,
   "metadata": {},
   "outputs": [],
   "source": []
  }
 ],
 "metadata": {
  "kernelspec": {
   "display_name": "Python 3",
   "language": "python",
   "name": "python3"
  },
  "language_info": {
   "codemirror_mode": {
    "name": "ipython",
    "version": 3
   },
   "file_extension": ".py",
   "mimetype": "text/x-python",
   "name": "python",
   "nbconvert_exporter": "python",
   "pygments_lexer": "ipython3",
   "version": "3.6.5"
  }
 },
 "nbformat": 4,
 "nbformat_minor": 2
}
